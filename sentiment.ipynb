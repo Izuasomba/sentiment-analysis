{
 "cells": [
  {
   "cell_type": "markdown",
   "id": "7d8c8e96-ff38-4d31-a29e-048107571888",
   "metadata": {},
   "source": [
    "## Gameplan\n",
    "1. Load IMDb Movie Reviews dataset:\n",
    "   - Read the IMDb dataset into your Python environment using a suitable method.\n",
    "2. Pre-process dataset:\n",
    "   - Clean the text data by removing any special characters, numbers, or unnecessary elements from the movie reviews. You can use regular expressions or string manipulation techniques for this task.\n",
    "   - Convert the sentiment labels from positive and negative to numerical values, such as 1 and 0, respectively.\n",
    "\n",
    "3. Import GloVe Word Embedding:\n",
    "   - Download the pre-trained GloVe word embeddings. GloVe provides word vectors that capture semantic meanings of words based on large-scale text data.\n",
    "   - Load the GloVe word embeddings into my Python environment. The embeddings are available in different dimensions, so choose the appropriate dimension based on your requirements.\n",
    "\n",
    "4. Build Embedding Dictionary and Embedding Matrix:\n",
    "   - Create an embedding dictionary that maps each word in my corpus to its corresponding word vector in the GloVe embeddings.\n",
    "   - Construct an embedding matrix using the embedding dictionary. The embedding matrix will be used as the initial weights for the embedding layer in my model.\n",
    "\n",
    "5. Model Training:\n",
    "   - Split the pre-processed dataset into training and testing sets using the `train_test_split` function from scikit-learn.\n",
    "   - Build and train model for LSTM architecture using Keras. The models can utilize the pre-trained word embeddings from the GloVe embeddings.\n",
    "   - Evaluate the performance of my model using appropriate evaluation metrics.\n",
    "\n",
    "6. Predict on real IMDb movie reviews:\n"
   ]
  },
  {
   "cell_type": "code",
   "execution_count": 1,
   "id": "f2b87013-f49d-42a5-ba1d-17062edf133f",
   "metadata": {},
   "outputs": [
    {
     "name": "stderr",
     "output_type": "stream",
     "text": [
      "2023-07-12 02:13:36.099212: I tensorflow/tsl/cuda/cudart_stub.cc:28] Could not find cuda drivers on your machine, GPU will not be used.\n",
      "2023-07-12 02:13:39.757397: I tensorflow/tsl/cuda/cudart_stub.cc:28] Could not find cuda drivers on your machine, GPU will not be used.\n",
      "2023-07-12 02:13:46.779796: W tensorflow/compiler/tf2tensorrt/utils/py_utils.cc:38] TF-TRT Warning: Could not find TensorRT\n"
     ]
    }
   ],
   "source": [
    "#Importing essential libraries\n",
    "import pandas as pd\n",
    "import numpy as np\n",
    "import re\n",
    "import nltk\n",
    "from nltk.corpus import stopwords\n",
    "from numpy import array\n",
    "\n",
    "from keras.preprocessing.text import one_hot, Tokenizer\n",
    "from keras.preprocessing.sequence import pad_sequences\n",
    "from keras.models import Sequential\n",
    "from keras.layers import Flatten, GlobalMaxPooling1D, Embedding, Conv1D, LSTM, Activation, Dropout, Dense\n",
    "from sklearn.model_selection import train_test_split"
   ]
  },
  {
   "cell_type": "markdown",
   "id": "65e00857-102a-4299-a0a5-ec82dc8d8347",
   "metadata": {},
   "source": [
    "## Load Dataset"
   ]
  },
  {
   "cell_type": "code",
   "execution_count": 2,
   "id": "aaaee470-acb6-4a10-a5f5-807596c7f755",
   "metadata": {},
   "outputs": [],
   "source": [
    "reviews = pd.read_csv(\"/home/asomba/Downloads/IMDB Dataset.csv\")"
   ]
  },
  {
   "cell_type": "code",
   "execution_count": 3,
   "id": "90c25ff7-e68b-4ea9-85e2-3bea5a1e2395",
   "metadata": {},
   "outputs": [
    {
     "data": {
      "text/html": [
       "<div>\n",
       "<style scoped>\n",
       "    .dataframe tbody tr th:only-of-type {\n",
       "        vertical-align: middle;\n",
       "    }\n",
       "\n",
       "    .dataframe tbody tr th {\n",
       "        vertical-align: top;\n",
       "    }\n",
       "\n",
       "    .dataframe thead th {\n",
       "        text-align: right;\n",
       "    }\n",
       "</style>\n",
       "<table border=\"1\" class=\"dataframe\">\n",
       "  <thead>\n",
       "    <tr style=\"text-align: right;\">\n",
       "      <th></th>\n",
       "      <th>review</th>\n",
       "      <th>sentiment</th>\n",
       "    </tr>\n",
       "  </thead>\n",
       "  <tbody>\n",
       "    <tr>\n",
       "      <th>0</th>\n",
       "      <td>One of the other reviewers has mentioned that ...</td>\n",
       "      <td>positive</td>\n",
       "    </tr>\n",
       "    <tr>\n",
       "      <th>1</th>\n",
       "      <td>A wonderful little production. &lt;br /&gt;&lt;br /&gt;The...</td>\n",
       "      <td>positive</td>\n",
       "    </tr>\n",
       "    <tr>\n",
       "      <th>2</th>\n",
       "      <td>I thought this was a wonderful way to spend ti...</td>\n",
       "      <td>positive</td>\n",
       "    </tr>\n",
       "    <tr>\n",
       "      <th>3</th>\n",
       "      <td>Basically there's a family where a little boy ...</td>\n",
       "      <td>negative</td>\n",
       "    </tr>\n",
       "    <tr>\n",
       "      <th>4</th>\n",
       "      <td>Petter Mattei's \"Love in the Time of Money\" is...</td>\n",
       "      <td>positive</td>\n",
       "    </tr>\n",
       "  </tbody>\n",
       "</table>\n",
       "</div>"
      ],
      "text/plain": [
       "                                              review sentiment\n",
       "0  One of the other reviewers has mentioned that ...  positive\n",
       "1  A wonderful little production. <br /><br />The...  positive\n",
       "2  I thought this was a wonderful way to spend ti...  positive\n",
       "3  Basically there's a family where a little boy ...  negative\n",
       "4  Petter Mattei's \"Love in the Time of Money\" is...  positive"
      ]
     },
     "execution_count": 3,
     "metadata": {},
     "output_type": "execute_result"
    }
   ],
   "source": [
    "reviews.head()"
   ]
  },
  {
   "cell_type": "code",
   "execution_count": 4,
   "id": "6bb34e85-71d1-4d38-90b9-a1624ead2e6b",
   "metadata": {},
   "outputs": [
    {
     "data": {
      "text/plain": [
       "False"
      ]
     },
     "execution_count": 4,
     "metadata": {},
     "output_type": "execute_result"
    }
   ],
   "source": [
    "reviews.isnull().values.any()\n",
    "#checks for missing values"
   ]
  },
  {
   "cell_type": "code",
   "execution_count": 5,
   "id": "59f9d33a-cc1e-4ed8-abca-b41f98b8ac04",
   "metadata": {},
   "outputs": [
    {
     "data": {
      "text/plain": [
       "<Axes: xlabel='sentiment', ylabel='count'>"
      ]
     },
     "execution_count": 5,
     "metadata": {},
     "output_type": "execute_result"
    },
    {
     "data": {
      "image/png": "[encoded data removed]",
      "text/plain": [
       "<Figure size 640x480 with 1 Axes>"
      ]
     },
     "metadata": {},
     "output_type": "display_data"
    }
   ],
   "source": [
    "import seaborn as sns\n",
    "sns.countplot(x='sentiment', data=reviews)\n",
    "#Check distribution of negative and positive sentiments"
   ]
  },
  {
   "cell_type": "markdown",
   "id": "720565dd-cd4b-4243-bf1a-3babd001ffdd",
   "metadata": {},
   "source": [
    "## Preprocessing the data"
   ]
  },
  {
   "cell_type": "code",
   "execution_count": 6,
   "id": "f5d71eae-6886-4439-83d2-9bad38e85ee6",
   "metadata": {},
   "outputs": [
    {
     "data": {
      "text/plain": [
       "\"Encouraged by the positive comments about this film on here I was looking forward to watching this film. Bad mistake. I've seen 950+ films and this is truly one of the worst of them - it's awful in almost every way: editing, pacing, storyline, 'acting,' soundtrack (the film's only song - a lame country tune - is played no less than four times). The film looks cheap and nasty and is boring in the extreme. Rarely have I been so happy to see the end credits of a film. <br /><br />The only thing that prevents me giving this a 1-score is Harvey Keitel - while this is far from his best performance he at least seems to be making a bit of an effort. One for Keitel obsessives only.\""
      ]
     },
     "execution_count": 6,
     "metadata": {},
     "output_type": "execute_result"
    }
   ],
   "source": [
    "reviews[\"review\"][8]\n",
    "#text contains punctuations, brackets, HTML tags and numbers "
   ]
  },
  {
   "cell_type": "code",
   "execution_count": 7,
   "id": "58ffffdb-affe-43d0-a82a-66d4c9460985",
   "metadata": {},
   "outputs": [],
   "source": [
    "rm_tag = re.compile(r'<[^>]+>')\n",
    "\n",
    "def remove_tags(text):\n",
    "    '''Removes HTML tags: replaces anything between opening and closing <> with empty space'''\n",
    "\n",
    "    return rm_tag.sub('', text)"
   ]
  },
  {
   "cell_type": "code",
   "execution_count": 8,
   "id": "715ce37c-9b35-4456-bb7d-f5467bb3c2f5",
   "metadata": {},
   "outputs": [
    {
     "name": "stderr",
     "output_type": "stream",
     "text": [
      "[nltk_data] Downloading package stopwords to /home/asomba/nltk_data...\n",
      "[nltk_data]   Package stopwords is already up-to-date!\n"
     ]
    },
    {
     "data": {
      "text/plain": [
       "True"
      ]
     },
     "execution_count": 8,
     "metadata": {},
     "output_type": "execute_result"
    }
   ],
   "source": [
    "nltk.download('stopwords')"
   ]
  },
  {
   "cell_type": "code",
   "execution_count": 9,
   "id": "72b975be-010f-4de5-8aca-b9e06c8aeed0",
   "metadata": {},
   "outputs": [],
   "source": [
    "def preprocess_text(sen):\n",
    "    '''The text data is filtered to remove long words from the dataset. Only words with a length below a certain threshold are kept, while shorter words are retained. This helps to simplify the dataset and focus on more relevant and meaningful words.'''\n",
    "   \n",
    "    \n",
    "    sentence = sen.lower()\n",
    "\n",
    "    # Remove html tags\n",
    "    sentence = remove_tags(sentence)\n",
    "\n",
    "    # Remove punctuations and numbers\n",
    "    sentence = re.sub('[^a-zA-Z]', ' ', sentence)\n",
    "\n",
    "    # remove single character \n",
    "    sentence = re.sub(r\"\\s+[a-zA-Z]\\s+\", ' ', sentence)  # When we remove apostrophe from the word \"Mark's\", the apostrophe is replaced by an empty space. Hence, we are left with single character \"s\" that we are removing here.\n",
    "\n",
    "    # Remove multiple spaces\n",
    "    sentence = re.sub(r'\\s+', ' ', sentence)  # Next, we remove all the single characters and replace it by a space which creates multiple spaces in our text. Finally, we remove the multiple spaces from our text as well.\n",
    "\n",
    "    # Remove Stopwords\n",
    "    pattern = re.compile(r'\\b(' + r'|'.join(stopwords.words('english')) + r')\\b\\s*')\n",
    "    sentence = pattern.sub('', sentence)\n",
    "\n",
    "    return sentence"
   ]
  },
  {
   "cell_type": "code",
   "execution_count": 10,
   "id": "e985c952-adf4-4da3-8cbc-b0fee01f574e",
   "metadata": {},
   "outputs": [],
   "source": [
    "X = []\n",
    "sentences = list(reviews['review'])\n",
    "for sen in sentences:\n",
    "   X.append(preprocess_text(sen))\n",
    "#Called preprocess function on reviews"
   ]
  },
  {
   "cell_type": "code",
   "execution_count": 11,
   "id": "69f02eb7-4a39-463d-85e8-3e5dec4f7747",
   "metadata": {},
   "outputs": [
    {
     "data": {
      "text/plain": [
       "'probably time favorite movie story selflessness sacrifice dedication noble cause preachy boring never gets old despite seen times last years paul lukas performance brings tears eyes bette davis one truly sympathetic roles delight kids grandma says like dressed midgets children makes fun watch mother slow awakening happening world roof believable startling dozen thumbs movie '"
      ]
     },
     "execution_count": 11,
     "metadata": {},
     "output_type": "execute_result"
    }
   ],
   "source": [
    "X[5]\n",
    "#preprocessed movie review\n",
    "# I did'nt perform stemming/lemmatization because I'd be using word embeddings"
   ]
  },
  {
   "cell_type": "code",
   "execution_count": 12,
   "id": "2c3b48e2-7242-4907-839f-4bd7336e3c7c",
   "metadata": {},
   "outputs": [],
   "source": [
    "y = reviews['sentiment']\n",
    "\n",
    "y = np.array(list(map(lambda x: 1 if x==\"positive\" else 0, y)))\n",
    "# Replacing sentiment label with 0&1"
   ]
  },
  {
   "cell_type": "code",
   "execution_count": 13,
   "id": "f31eb701-e78b-4c55-adc2-e0db094645b9",
   "metadata": {},
   "outputs": [],
   "source": [
    "X_train, X_test, y_train, y_test = train_test_split(X, y, test_size=0.20, random_state=42)\n",
    "# I'll use the test set to evaluate how well the model performs and the train set to build my deep learnng model"
   ]
  },
  {
   "cell_type": "markdown",
   "id": "3045dffa-4acb-4afc-b08a-1f94c74f2703",
   "metadata": {},
   "source": [
    "## Preparing embedding layer"
   ]
  },
  {
   "cell_type": "code",
   "execution_count": 14,
   "id": "58c231e7-5e1a-4b12-959d-1258ef8eab87",
   "metadata": {},
   "outputs": [],
   "source": [
    "# Embedding layer expects the words to be in numeric form \n",
    "word_tokenizer = Tokenizer()\n",
    "word_tokenizer.fit_on_texts(X_train)\n",
    "\n",
    "X_train = word_tokenizer.texts_to_sequences(X_train)\n",
    "X_test = word_tokenizer.texts_to_sequences(X_test)"
   ]
  },
  {
   "cell_type": "code",
   "execution_count": 15,
   "id": "618260c1-203f-4682-b2a8-41ba9d98ad57",
   "metadata": {},
   "outputs": [
    {
     "data": {
      "text/plain": [
       "92394"
      ]
     },
     "execution_count": 15,
     "metadata": {},
     "output_type": "execute_result"
    }
   ],
   "source": [
    "vocab_length = len(word_tokenizer.word_index) + 1\n",
    "#added 1 for words which no pretrained embedding exist\n",
    "\n",
    "vocab_length"
   ]
  },
  {
   "cell_type": "code",
   "execution_count": 16,
   "id": "1f5c3569-ac39-4af4-9380-51599ceac312",
   "metadata": {},
   "outputs": [],
   "source": [
    "max_len = 100\n",
    "\n",
    "X_train = pad_sequences(X_train, padding='post', maxlen=max_len)\n",
    "X_test = pad_sequences(X_test, padding='post', maxlen=max_len)\n",
    "#padded all reviews to a length of 100"
   ]
  },
  {
   "cell_type": "code",
   "execution_count": 17,
   "id": "c2e2eb22-5d1c-42ff-95ac-19a0d3234ae3",
   "metadata": {},
   "outputs": [],
   "source": [
    "\n",
    "#!unzip glove.6B.zip\n"
   ]
  },
  {
   "cell_type": "code",
   "execution_count": 18,
   "id": "69567306-a2bf-42fd-a782-40130ab645d9",
   "metadata": {},
   "outputs": [],
   "source": [
    "# Load GloVe word embeddings and create an Embeddings Dictionary\n",
    "from numpy import asarray\n",
    "from numpy import zeros\n",
    "\n",
    "embeddings_dictionary = dict()\n",
    "glove_file = open('glove.6B.100d.txt', encoding=\"utf8\")\n",
    "\n",
    "for line in glove_file:\n",
    "    records = line.split()\n",
    "    word = records[0]\n",
    "    vector_dimensions = asarray(records[1:], dtype='float32')\n",
    "    embeddings_dictionary [word] = vector_dimensions\n",
    "glove_file.close()\n"
   ]
  },
  {
   "cell_type": "code",
   "execution_count": 19,
   "id": "d7371ad5-8b55-4a4d-a62d-d0d44c0ea5fd",
   "metadata": {},
   "outputs": [],
   "source": [
    "embedding_matrix = zeros((vocab_length, 100))\n",
    "for word, index in word_tokenizer.word_index.items():\n",
    "    embedding_vector = embeddings_dictionary.get(word)\n",
    "    if embedding_vector is not None:\n",
    "        embedding_matrix[index] = embedding_vector"
   ]
  },
  {
   "cell_type": "code",
   "execution_count": 71,
   "id": "77cd654f-774f-4aae-a346-050ed21bede6",
   "metadata": {},
   "outputs": [
    {
     "data": {
      "text/plain": [
       "(92394, 100)"
      ]
     },
     "execution_count": 71,
     "metadata": {},
     "output_type": "execute_result"
    }
   ],
   "source": [
    "embedding_matrix.shape"
   ]
  },
  {
   "cell_type": "code",
   "execution_count": 72,
   "id": "127780e0-692b-49ed-b6e7-aa8eea649a68",
   "metadata": {},
   "outputs": [],
   "source": [
    "from keras.layers import LSTM"
   ]
  },
  {
   "cell_type": "code",
   "execution_count": 73,
   "id": "068e4ef4-1788-4398-a32a-036272ed32cd",
   "metadata": {},
   "outputs": [],
   "source": [
    "# Neural Network architecture\n",
    "\n",
    "lstm_model = Sequential()\n",
    "embedding_layer = Embedding(vocab_length, 100, weights=[embedding_matrix], input_length=max_len , trainable=False)\n",
    "\n",
    "lstm_model.add(embedding_layer)\n",
    "lstm_model.add(LSTM(128))\n",
    "\n",
    "lstm_model.add(Dense(1, activation='sigmoid'))"
   ]
  },
  {
   "cell_type": "code",
   "execution_count": 74,
   "id": "e6476a6e-82ce-4839-a51a-f394914e860c",
   "metadata": {},
   "outputs": [
    {
     "name": "stdout",
     "output_type": "stream",
     "text": [
      "Model: \"sequential_1\"\n",
      "_________________________________________________________________\n",
      " Layer (type)                Output Shape              Param #   \n",
      "=================================================================\n",
      " embedding_1 (Embedding)     (None, 100, 100)          9239400   \n",
      "                                                                 \n",
      " lstm_1 (LSTM)               (None, 128)               117248    \n",
      "                                                                 \n",
      " dense_1 (Dense)             (None, 1)                 129       \n",
      "                                                                 \n",
      "=================================================================\n",
      "Total params: 9356777 (35.69 MB)\n",
      "Trainable params: 117377 (458.50 KB)\n",
      "Non-trainable params: 9239400 (35.25 MB)\n",
      "_________________________________________________________________\n",
      "None\n"
     ]
    }
   ],
   "source": [
    "# Model compiling\n",
    "\n",
    "lstm_model.compile(optimizer='adam', loss='binary_crossentropy', metrics=['acc'])\n",
    "print(lstm_model.summary())"
   ]
  },
  {
   "cell_type": "code",
   "execution_count": 75,
   "id": "d079717f-0c7c-40a7-bd66-320ceb0bbf1f",
   "metadata": {},
   "outputs": [],
   "source": [
    "#lstm_model_history = lstm_model.fit(X_train, y_train, batch_size=128, epochs=6, verbose=1, validation_split=0.2)"
   ]
  },
  {
   "cell_type": "code",
   "execution_count": 76,
   "id": "bd1baef8-7b73-43df-a462-9f9a4aa277d4",
   "metadata": {},
   "outputs": [],
   "source": [
    "#score = lstm_model.evaluate(X_test, y_test, verbose=1)"
   ]
  },
  {
   "cell_type": "code",
   "execution_count": 77,
   "id": "14a9325d-fadb-4df0-9210-104cf509e13d",
   "metadata": {},
   "outputs": [
    {
     "ename": "NameError",
     "evalue": "name 'score' is not defined",
     "output_type": "error",
     "traceback": [
      "\u001b[0;31m---------------------------------------------------------------------------\u001b[0m",
      "\u001b[0;31mNameError\u001b[0m                                 Traceback (most recent call last)",
      "Cell \u001b[0;32mIn[77], line 1\u001b[0m\n\u001b[0;32m----> 1\u001b[0m \u001b[38;5;28mprint\u001b[39m(\u001b[38;5;124m\"\u001b[39m\u001b[38;5;124mTest Score:\u001b[39m\u001b[38;5;124m\"\u001b[39m, \u001b[43mscore\u001b[49m[\u001b[38;5;241m0\u001b[39m])\n\u001b[1;32m      2\u001b[0m \u001b[38;5;28mprint\u001b[39m(\u001b[38;5;124m\"\u001b[39m\u001b[38;5;124mTest Accuracy:\u001b[39m\u001b[38;5;124m\"\u001b[39m, score[\u001b[38;5;241m1\u001b[39m])\n",
      "\u001b[0;31mNameError\u001b[0m: name 'score' is not defined"
     ]
    }
   ],
   "source": [
    "print(\"Test Score:\", score[0])\n",
    "print(\"Test Accuracy:\", score[1])"
   ]
  },
  {
   "cell_type": "code",
   "execution_count": null,
   "id": "33b86aff-f298-4e54-9557-75baf92faaf9",
   "metadata": {},
   "outputs": [],
   "source": [
    "# Model Performance viz\n",
    "\n",
    "import matplotlib.pyplot as plt\n",
    "\n",
    "plt.plot(lstm_model_history.history['acc'])\n",
    "plt.plot(lstm_model_history.history['val_acc'])\n",
    "\n",
    "plt.title('model accuracy')\n",
    "plt.ylabel('accuracy')\n",
    "plt.xlabel('epoch')\n",
    "plt.legend(['train','test'], loc='upper left')\n",
    "plt.show()\n",
    "\n",
    "plt.plot(lstm_model_history.history['loss'])\n",
    "plt.plot(lstm_model_history.history['val_loss'])\n",
    "\n",
    "plt.title('model loss')\n",
    "plt.ylabel('loss')\n",
    "plt.xlabel('epoch')\n",
    "plt.legend(['train','test'], loc='upper left')\n",
    "plt.show()"
   ]
  },
  {
   "cell_type": "code",
   "execution_count": null,
   "id": "13bbd50d-19e7-4318-b280-3569eab28c30",
   "metadata": {},
   "outputs": [],
   "source": [
    "\n",
    "#lstm_model.save(f\"./review_sentiment{round(score[1], 3)}.h5\", save_format='h5')"
   ]
  },
  {
   "cell_type": "code",
   "execution_count": null,
   "id": "05496329-9eef-4dc2-84e0-db6074e559a6",
   "metadata": {},
   "outputs": [],
   "source": [
    "ls"
   ]
  },
  {
   "cell_type": "markdown",
   "id": "10c4f368-328e-4c26-b15f-56b9b997f762",
   "metadata": {},
   "source": [
    "## Testing the model with real world data"
   ]
  },
  {
   "cell_type": "code",
   "execution_count": 20,
   "id": "4f66ee9a-58f1-467c-b55d-fd30e0189a3e",
   "metadata": {},
   "outputs": [],
   "source": [
    "from keras.models import load_model\n",
    "from tensorflow import keras"
   ]
  },
  {
   "cell_type": "code",
   "execution_count": 22,
   "id": "77578fdc-aef4-4e11-ad74-a886d08b191c",
   "metadata": {},
   "outputs": [],
   "source": [
    "import requests\n",
    "from bs4 import BeautifulSoup\n",
    "import re\n",
    "from transformers import AutoTokenizer"
   ]
  },
  {
   "cell_type": "code",
   "execution_count": 31,
   "id": "322071e2-9b0b-4cf2-be9d-cb180dea3e38",
   "metadata": {},
   "outputs": [],
   "source": [
    "r = requests.get('https://www.yelp.com/biz/social-brew-cafe-pyrmont')\n",
    "soup = BeautifulSoup(r.text, 'html.parser')\n",
    "regex = re.compile('.*comment.*')\n",
    "results = soup.find_all('p', {'class':regex})\n",
    "reviews = [result.text for result in results]"
   ]
  },
  {
   "cell_type": "code",
   "execution_count": 32,
   "id": "01325578-e983-433c-8e34-3fb3b6f8e715",
   "metadata": {},
   "outputs": [
    {
     "data": {
      "text/plain": [
       "[]"
      ]
     },
     "execution_count": 32,
     "metadata": {},
     "output_type": "execute_result"
    }
   ],
   "source": [
    "reviews"
   ]
  },
  {
   "cell_type": "code",
   "execution_count": 25,
   "id": "447cd506-78d1-4ee5-a036-6471369d24e9",
   "metadata": {},
   "outputs": [],
   "source": [
    "import numpy as np\n",
    "import pandas as pd"
   ]
  },
  {
   "cell_type": "code",
   "execution_count": 155,
   "id": "15e621a1-9a64-403f-813c-69fa9f3d0537",
   "metadata": {},
   "outputs": [],
   "source": [
    "test_rev= pd.DataFrame(np.array(reviews), columns=['review'])\n"
   ]
  },
  {
   "cell_type": "code",
   "execution_count": 156,
   "id": "d6c5b3e7-dfc6-4f41-8c32-013b15ddf0ec",
   "metadata": {},
   "outputs": [],
   "source": [
    "model = load_model(\"lstm_model.h5\")"
   ]
  },
  {
   "cell_type": "code",
   "execution_count": 157,
   "id": "08fe856f-7b9c-4e90-8762-b812dcbf8760",
   "metadata": {},
   "outputs": [
    {
     "data": {
      "text/html": [
       "<div>\n",
       "<style scoped>\n",
       "    .dataframe tbody tr th:only-of-type {\n",
       "        vertical-align: middle;\n",
       "    }\n",
       "\n",
       "    .dataframe tbody tr th {\n",
       "        vertical-align: top;\n",
       "    }\n",
       "\n",
       "    .dataframe thead th {\n",
       "        text-align: right;\n",
       "    }\n",
       "</style>\n",
       "<table border=\"1\" class=\"dataframe\">\n",
       "  <thead>\n",
       "    <tr style=\"text-align: right;\">\n",
       "      <th></th>\n",
       "      <th>review</th>\n",
       "    </tr>\n",
       "  </thead>\n",
       "  <tbody>\n",
       "    <tr>\n",
       "      <th>0</th>\n",
       "      <td>Some of the best Milkshakes me and my daughter...</td>\n",
       "    </tr>\n",
       "    <tr>\n",
       "      <th>1</th>\n",
       "      <td>Great place with delicious food and friendly s...</td>\n",
       "    </tr>\n",
       "    <tr>\n",
       "      <th>2</th>\n",
       "      <td>Great food amazing coffee and tea. Short walk ...</td>\n",
       "    </tr>\n",
       "    <tr>\n",
       "      <th>3</th>\n",
       "      <td>It was ok. Had coffee with my friends. I'm new...</td>\n",
       "    </tr>\n",
       "    <tr>\n",
       "      <th>4</th>\n",
       "      <td>Ricotta hot cakes! These were so yummy. I ate ...</td>\n",
       "    </tr>\n",
       "    <tr>\n",
       "      <th>5</th>\n",
       "      <td>Great staff and food.  Must try is the pan fri...</td>\n",
       "    </tr>\n",
       "    <tr>\n",
       "      <th>6</th>\n",
       "      <td>We came for brunch twice in our week-long visi...</td>\n",
       "    </tr>\n",
       "    <tr>\n",
       "      <th>7</th>\n",
       "      <td>I came to Social brew cafe for brunch while ex...</td>\n",
       "    </tr>\n",
       "    <tr>\n",
       "      <th>8</th>\n",
       "      <td>It was ok. The coffee wasn't the best but it w...</td>\n",
       "    </tr>\n",
       "    <tr>\n",
       "      <th>9</th>\n",
       "      <td>Great coffee and vibe. That's all  you need. C...</td>\n",
       "    </tr>\n",
       "    <tr>\n",
       "      <th>10</th>\n",
       "      <td>Great coffee and vibe. That's all  you need. C...</td>\n",
       "    </tr>\n",
       "  </tbody>\n",
       "</table>\n",
       "</div>"
      ],
      "text/plain": [
       "                                               review\n",
       "0   Some of the best Milkshakes me and my daughter...\n",
       "1   Great place with delicious food and friendly s...\n",
       "2   Great food amazing coffee and tea. Short walk ...\n",
       "3   It was ok. Had coffee with my friends. I'm new...\n",
       "4   Ricotta hot cakes! These were so yummy. I ate ...\n",
       "5   Great staff and food.  Must try is the pan fri...\n",
       "6   We came for brunch twice in our week-long visi...\n",
       "7   I came to Social brew cafe for brunch while ex...\n",
       "8   It was ok. The coffee wasn't the best but it w...\n",
       "9   Great coffee and vibe. That's all  you need. C...\n",
       "10  Great coffee and vibe. That's all  you need. C..."
      ]
     },
     "execution_count": 157,
     "metadata": {},
     "output_type": "execute_result"
    }
   ],
   "source": [
    "test_rev"
   ]
  },
  {
   "cell_type": "code",
   "execution_count": 158,
   "id": "630087da-5a0c-43be-82b8-231809e33bb6",
   "metadata": {},
   "outputs": [
    {
     "data": {
      "text/plain": [
       "0    I got tired pulling all the broken glass and g...\n",
       "1    Love the customer service, very speedy service...\n",
       "2    Avoid this shop. I dropped off my device for r...\n",
       "3    My cell phone screen is cracked and this is th...\n",
       "4    Referred by insurance company called \"assuranc...\n",
       "Name: review, dtype: object"
      ]
     },
     "execution_count": 158,
     "metadata": {},
     "output_type": "execute_result"
    }
   ],
   "source": [
    "unseen_reviews"
   ]
  },
  {
   "cell_type": "code",
   "execution_count": 159,
   "id": "4d096f1f-0f74-4765-ada1-1a953eeda56f",
   "metadata": {},
   "outputs": [],
   "source": [
    "unseen_reviews = test_rev['review']\n",
    "\n",
    "unseen_processed = []\n",
    "for review in unseen_reviews:\n",
    "  review = preprocess_text(review)\n",
    "  unseen_processed.append(review)"
   ]
  },
  {
   "cell_type": "code",
   "execution_count": 160,
   "id": "83ee1812-5f28-4019-8bc3-d3868c7c13ba",
   "metadata": {},
   "outputs": [],
   "source": [
    "# Tokenising instance with earlier trained tokeniser\n",
    "unseen_tokenized = word_tokenizer.texts_to_sequences(unseen_processed)\n",
    "\n",
    "# Pooling instance to have maxlength of 100 tokens\n",
    "unseen_padded = pad_sequences(unseen_tokenized, padding='post', maxlen=max_len)"
   ]
  },
  {
   "cell_type": "code",
   "execution_count": 161,
   "id": "eaf3176b-faaf-4903-a2f4-f0499b6a9661",
   "metadata": {},
   "outputs": [
    {
     "name": "stdout",
     "output_type": "stream",
     "text": [
      "WARNING:tensorflow:5 out of the last 8 calls to <function Model.make_predict_function.<locals>.predict_function at 0x7fa2909ad360> triggered tf.function retracing. Tracing is expensive and the excessive number of tracings could be due to (1) creating @tf.function repeatedly in a loop, (2) passing tensors with different shapes, (3) passing Python objects instead of tensors. For (1), please define your @tf.function outside of the loop. For (2), @tf.function has reduce_retracing=True option that can avoid unnecessary retracing. For (3), please refer to https://www.tensorflow.org/guide/function#controlling_retracing and https://www.tensorflow.org/api_docs/python/tf/function for  more details.\n",
      "1/1 [==============================] - 1s 682ms/step\n"
     ]
    },
    {
     "data": {
      "text/plain": [
       "array([[0.79375285],\n",
       "       [0.9787259 ],\n",
       "       [0.97999513],\n",
       "       [0.7349085 ],\n",
       "       [0.53456455],\n",
       "       [0.7823258 ],\n",
       "       [0.6581744 ],\n",
       "       [0.5936432 ],\n",
       "       [0.6634662 ],\n",
       "       [0.9758505 ],\n",
       "       [0.7933274 ]], dtype=float32)"
      ]
     },
     "execution_count": 161,
     "metadata": {},
     "output_type": "execute_result"
    }
   ],
   "source": [
    "unseen_sentiments = model.predict(unseen_padded)\n",
    "\n",
    "unseen_sentiments"
   ]
  },
  {
   "cell_type": "code",
   "execution_count": 33,
   "id": "4c85d45e-d0f5-4fd1-aaba-9eb5216b8dd8",
   "metadata": {},
   "outputs": [
    {
     "ename": "NameError",
     "evalue": "name 'test_rev' is not defined",
     "output_type": "error",
     "traceback": [
      "\u001b[0;31m---------------------------------------------------------------------------\u001b[0m",
      "\u001b[0;31mNameError\u001b[0m                                 Traceback (most recent call last)",
      "Cell \u001b[0;32mIn[33], line 9\u001b[0m\n\u001b[1;32m      6\u001b[0m         \u001b[38;5;28;01mreturn\u001b[39;00m \u001b[38;5;124m\"\u001b[39m\u001b[38;5;124mnegative\u001b[39m\u001b[38;5;124m\"\u001b[39m\n\u001b[1;32m      8\u001b[0m \u001b[38;5;66;03m# Apply the mapping function to convert sentiment scores to labels\u001b[39;00m\n\u001b[0;32m----> 9\u001b[0m df_prediction_sentiments \u001b[38;5;241m=\u001b[39m pd\u001b[38;5;241m.\u001b[39mDataFrame(\u001b[43mtest_rev\u001b[49m[\u001b[38;5;124m'\u001b[39m\u001b[38;5;124mPredicted Sentiments\u001b[39m\u001b[38;5;124m'\u001b[39m], columns\u001b[38;5;241m=\u001b[39m[\u001b[38;5;124m'\u001b[39m\u001b[38;5;124mPredicted Sentiments\u001b[39m\u001b[38;5;124m'\u001b[39m])\n\u001b[1;32m     10\u001b[0m df_prediction_sentiments[\u001b[38;5;124m'\u001b[39m\u001b[38;5;124mSentiment Label\u001b[39m\u001b[38;5;124m'\u001b[39m] \u001b[38;5;241m=\u001b[39m df_prediction_sentiments[\u001b[38;5;124m'\u001b[39m\u001b[38;5;124mPredicted Sentiments\u001b[39m\u001b[38;5;124m'\u001b[39m]\u001b[38;5;241m.\u001b[39mapply(map_sentiment)\n\u001b[1;32m     12\u001b[0m \u001b[38;5;66;03m# Create dataframe for review text\u001b[39;00m\n",
      "\u001b[0;31mNameError\u001b[0m: name 'test_rev' is not defined"
     ]
    }
   ],
   "source": [
    "# Mapping function to convert sentiment scores to labels\n",
    "def map_sentiment(score):\n",
    "    if score >= 5:\n",
    "        return \"positive\"\n",
    "    else:\n",
    "        return \"negative\"\n",
    "\n",
    "# Apply the mapping function to convert sentiment scores to labels\n",
    "df_prediction_sentiments = pd.DataFrame(test_rev['Predicted Sentiments'], columns=['Predicted Sentiments'])\n",
    "df_prediction_sentiments['Sentiment Label'] = df_prediction_sentiments['Predicted Sentiments'].apply(map_sentiment)\n",
    "\n",
    "# Create dataframe for review text\n",
    "df_review_text = pd.DataFrame(test_rev['review'], columns=['Review Text'])\n",
    "\n",
    "# Combine the dataframes\n",
    "dfx = pd.concat([df_review_text, df_prediction_sentiments], axis=1)\n",
    "\n",
    "# Save to a CSV file\n",
    "dfx.to_csv(\"analysed_sentiment_1.csv\", sep=',', encoding='UTF-8', index=False)\n",
    "\n",
    "# Display the first 6 rows of the dataframe\n",
    "dfx.head(6)\n"
   ]
  },
  {
   "cell_type": "code",
   "execution_count": null,
   "id": "c05c965b-484c-4258-b65f-c33c0805634c",
   "metadata": {},
   "outputs": [],
   "source": [
    "dfx[\"Sentiment Label\"]==\"negative\""
   ]
  }
 ],
 "metadata": {
  "kernelspec": {
   "display_name": "Python 3 (ipykernel)",
   "language": "python",
   "name": "python3"
  },
  "language_info": {
   "codemirror_mode": {
    "name": "ipython",
    "version": 3
   },
   "file_extension": ".py",
   "mimetype": "text/x-python",
   "name": "python",
   "nbconvert_exporter": "python",
   "pygments_lexer": "ipython3",
   "version": "3.10.6"
  }
 },
 "nbformat": 4,
 "nbformat_minor": 5
}
